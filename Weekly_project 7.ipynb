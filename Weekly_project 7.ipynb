{
 "cells": [
  {
   "cell_type": "code",
   "execution_count": 1,
   "metadata": {},
   "outputs": [],
   "source": [
    "import numpy as np\n",
    "import pandas as pd\n",
    "\n",
    "from keras.preprocessing.image import ImageDataGenerator, load_img\n",
    "from keras.utils import to_categorical\n",
    "from sklearn.model_selection import train_test_split\n",
    "import matplotlib.pyplot as plt\n",
    "import random\n",
    "\n",
    "import os"
   ]
  },
  {
   "cell_type": "markdown",
   "metadata": {},
   "source": [
    "<h1> Prepare Data </h1>"
   ]
  },
  {
   "cell_type": "code",
   "execution_count": 2,
   "metadata": {},
   "outputs": [],
   "source": [
    "img_names = os.listdir(\"../weekly project 7/train\")"
   ]
  },
  {
   "cell_type": "code",
   "execution_count": null,
   "metadata": {},
   "outputs": [],
   "source": [
    "# While checking the data manually, I regconize that the image was named like \"cat.01.jpg\",\n",
    "# So it suitable to write a function to split the \"cat\" and \"dog\" word out and making label from them."
   ]
  },
  {
   "cell_type": "code",
   "execution_count": 3,
   "metadata": {},
   "outputs": [],
   "source": [
    "img_dict= []\n",
    "for img_name in img_names:\n",
    "    name= img_name.split('.')[0]\n",
    "    if name == 'dog':\n",
    "        img_dict.append(1)\n",
    "    else: img_dict.append(0)\n",
    "df= pd.DataFrame({'Name': img_names,\n",
    "                 'Category': img_dict})"
   ]
  },
  {
   "cell_type": "markdown",
   "metadata": {},
   "source": [
    "<h3> Check if the split work </h3>"
   ]
  },
  {
   "cell_type": "code",
   "execution_count": 4,
   "metadata": {},
   "outputs": [
    {
     "data": {
      "text/plain": [
       "'dog'"
      ]
     },
     "execution_count": 4,
     "metadata": {},
     "output_type": "execute_result"
    }
   ],
   "source": [
    "name= img_name.split('.')[0]\n",
    "name"
   ]
  },
  {
   "cell_type": "markdown",
   "metadata": {},
   "source": [
    "<h3> Check the data </h3>"
   ]
  },
  {
   "cell_type": "code",
   "execution_count": 5,
   "metadata": {},
   "outputs": [
    {
     "data": {
      "text/html": [
       "<div>\n",
       "<style scoped>\n",
       "    .dataframe tbody tr th:only-of-type {\n",
       "        vertical-align: middle;\n",
       "    }\n",
       "\n",
       "    .dataframe tbody tr th {\n",
       "        vertical-align: top;\n",
       "    }\n",
       "\n",
       "    .dataframe thead th {\n",
       "        text-align: right;\n",
       "    }\n",
       "</style>\n",
       "<table border=\"1\" class=\"dataframe\">\n",
       "  <thead>\n",
       "    <tr style=\"text-align: right;\">\n",
       "      <th></th>\n",
       "      <th>Name</th>\n",
       "      <th>Category</th>\n",
       "    </tr>\n",
       "  </thead>\n",
       "  <tbody>\n",
       "    <tr>\n",
       "      <th>5891</th>\n",
       "      <td>cat.405.jpg</td>\n",
       "      <td>0</td>\n",
       "    </tr>\n",
       "    <tr>\n",
       "      <th>7487</th>\n",
       "      <td>cat.5487.jpg</td>\n",
       "      <td>0</td>\n",
       "    </tr>\n",
       "    <tr>\n",
       "      <th>17127</th>\n",
       "      <td>dog.2912.jpg</td>\n",
       "      <td>1</td>\n",
       "    </tr>\n",
       "    <tr>\n",
       "      <th>8484</th>\n",
       "      <td>cat.6384.jpg</td>\n",
       "      <td>0</td>\n",
       "    </tr>\n",
       "    <tr>\n",
       "      <th>3487</th>\n",
       "      <td>cat.1887.jpg</td>\n",
       "      <td>0</td>\n",
       "    </tr>\n",
       "    <tr>\n",
       "      <th>15842</th>\n",
       "      <td>dog.1756.jpg</td>\n",
       "      <td>1</td>\n",
       "    </tr>\n",
       "    <tr>\n",
       "      <th>7712</th>\n",
       "      <td>cat.569.jpg</td>\n",
       "      <td>0</td>\n",
       "    </tr>\n",
       "    <tr>\n",
       "      <th>2374</th>\n",
       "      <td>cat.12133.jpg</td>\n",
       "      <td>0</td>\n",
       "    </tr>\n",
       "    <tr>\n",
       "      <th>21442</th>\n",
       "      <td>dog.6797.jpg</td>\n",
       "      <td>1</td>\n",
       "    </tr>\n",
       "    <tr>\n",
       "      <th>18206</th>\n",
       "      <td>dog.3884.jpg</td>\n",
       "      <td>1</td>\n",
       "    </tr>\n",
       "  </tbody>\n",
       "</table>\n",
       "</div>"
      ],
      "text/plain": [
       "                Name  Category\n",
       "5891     cat.405.jpg         0\n",
       "7487    cat.5487.jpg         0\n",
       "17127   dog.2912.jpg         1\n",
       "8484    cat.6384.jpg         0\n",
       "3487    cat.1887.jpg         0\n",
       "15842   dog.1756.jpg         1\n",
       "7712     cat.569.jpg         0\n",
       "2374   cat.12133.jpg         0\n",
       "21442   dog.6797.jpg         1\n",
       "18206   dog.3884.jpg         1"
      ]
     },
     "execution_count": 5,
     "metadata": {},
     "output_type": "execute_result"
    }
   ],
   "source": [
    "df.sample(10)"
   ]
  },
  {
   "cell_type": "code",
   "execution_count": 6,
   "metadata": {},
   "outputs": [
    {
     "data": {
      "text/plain": [
       "<AxesSubplot:>"
      ]
     },
     "execution_count": 6,
     "metadata": {},
     "output_type": "execute_result"
    },
    {
     "data": {
      "image/png": "[encoded data removed]",
      "text/plain": [
       "<Figure size 432x288 with 1 Axes>"
      ]
     },
     "metadata": {
      "needs_background": "light"
     },
     "output_type": "display_data"
    }
   ],
   "source": [
    "df['Category'].value_counts().plot.bar()"
   ]
  },
  {
   "cell_type": "code",
   "execution_count": 7,
   "metadata": {},
   "outputs": [
    {
     "data": {
      "text/plain": [
       "<matplotlib.image.AxesImage at 0x1b1a64e7e80>"
      ]
     },
     "execution_count": 7,
     "metadata": {},
     "output_type": "execute_result"
    },
    {
     "data": {
      "image/png": "[encoded data removed]",
      "text/plain": [
       "<Figure size 432x288 with 1 Axes>"
      ]
     },
     "metadata": {
      "needs_background": "light"
     },
     "output_type": "display_data"
    }
   ],
   "source": [
    "sample = random.choice(img_names)\n",
    "image = load_img(\"../weekly project 7/train/\"+sample)\n",
    "plt.imshow(image)"
   ]
  },
  {
   "cell_type": "code",
   "execution_count": 8,
   "metadata": {},
   "outputs": [],
   "source": [
    "df['Category'].replace({0: 'cat',\n",
    "                       1: 'dog'}, inplace= True)"
   ]
  },
  {
   "cell_type": "code",
   "execution_count": 9,
   "metadata": {},
   "outputs": [
    {
     "data": {
      "text/html": [
       "<div>\n",
       "<style scoped>\n",
       "    .dataframe tbody tr th:only-of-type {\n",
       "        vertical-align: middle;\n",
       "    }\n",
       "\n",
       "    .dataframe tbody tr th {\n",
       "        vertical-align: top;\n",
       "    }\n",
       "\n",
       "    .dataframe thead th {\n",
       "        text-align: right;\n",
       "    }\n",
       "</style>\n",
       "<table border=\"1\" class=\"dataframe\">\n",
       "  <thead>\n",
       "    <tr style=\"text-align: right;\">\n",
       "      <th></th>\n",
       "      <th>Name</th>\n",
       "      <th>Category</th>\n",
       "    </tr>\n",
       "  </thead>\n",
       "  <tbody>\n",
       "    <tr>\n",
       "      <th>18787</th>\n",
       "      <td>dog.4406.jpg</td>\n",
       "      <td>dog</td>\n",
       "    </tr>\n",
       "    <tr>\n",
       "      <th>18214</th>\n",
       "      <td>dog.3891.jpg</td>\n",
       "      <td>dog</td>\n",
       "    </tr>\n",
       "    <tr>\n",
       "      <th>11353</th>\n",
       "      <td>cat.8967.jpg</td>\n",
       "      <td>cat</td>\n",
       "    </tr>\n",
       "    <tr>\n",
       "      <th>1715</th>\n",
       "      <td>cat.11540.jpg</td>\n",
       "      <td>cat</td>\n",
       "    </tr>\n",
       "    <tr>\n",
       "      <th>11180</th>\n",
       "      <td>cat.8810.jpg</td>\n",
       "      <td>cat</td>\n",
       "    </tr>\n",
       "    <tr>\n",
       "      <th>13684</th>\n",
       "      <td>dog.11062.jpg</td>\n",
       "      <td>dog</td>\n",
       "    </tr>\n",
       "    <tr>\n",
       "      <th>16713</th>\n",
       "      <td>dog.254.jpg</td>\n",
       "      <td>dog</td>\n",
       "    </tr>\n",
       "    <tr>\n",
       "      <th>14650</th>\n",
       "      <td>dog.11932.jpg</td>\n",
       "      <td>dog</td>\n",
       "    </tr>\n",
       "    <tr>\n",
       "      <th>14462</th>\n",
       "      <td>dog.11763.jpg</td>\n",
       "      <td>dog</td>\n",
       "    </tr>\n",
       "    <tr>\n",
       "      <th>417</th>\n",
       "      <td>cat.10372.jpg</td>\n",
       "      <td>cat</td>\n",
       "    </tr>\n",
       "  </tbody>\n",
       "</table>\n",
       "</div>"
      ],
      "text/plain": [
       "                Name Category\n",
       "18787   dog.4406.jpg      dog\n",
       "18214   dog.3891.jpg      dog\n",
       "11353   cat.8967.jpg      cat\n",
       "1715   cat.11540.jpg      cat\n",
       "11180   cat.8810.jpg      cat\n",
       "13684  dog.11062.jpg      dog\n",
       "16713    dog.254.jpg      dog\n",
       "14650  dog.11932.jpg      dog\n",
       "14462  dog.11763.jpg      dog\n",
       "417    cat.10372.jpg      cat"
      ]
     },
     "execution_count": 9,
     "metadata": {},
     "output_type": "execute_result"
    }
   ],
   "source": [
    "df.sample(10)"
   ]
  },
  {
   "cell_type": "code",
   "execution_count": 10,
   "metadata": {},
   "outputs": [
    {
     "data": {
      "text/plain": [
       "<AxesSubplot:>"
      ]
     },
     "execution_count": 10,
     "metadata": {},
     "output_type": "execute_result"
    },
    {
     "data": {
      "image/png": "[encoded data removed]",
      "text/plain": [
       "<Figure size 432x288 with 1 Axes>"
      ]
     },
     "metadata": {
      "needs_background": "light"
     },
     "output_type": "display_data"
    }
   ],
   "source": [
    "df['Category'].value_counts().plot.bar()"
   ]
  },
  {
   "cell_type": "markdown",
   "metadata": {},
   "source": [
    "<h3> Split the set </h3>"
   ]
  },
  {
   "cell_type": "code",
   "execution_count": 11,
   "metadata": {},
   "outputs": [],
   "source": [
    "train_set, val_set = train_test_split(df, test_size=0.20, random_state=42)"
   ]
  },
  {
   "cell_type": "code",
   "execution_count": 12,
   "metadata": {},
   "outputs": [],
   "source": [
    "total_train= train_set.shape[0]"
   ]
  },
  {
   "cell_type": "code",
   "execution_count": 13,
   "metadata": {},
   "outputs": [
    {
     "data": {
      "text/plain": [
       "dog    10015\n",
       "cat     9985\n",
       "Name: Category, dtype: int64"
      ]
     },
     "execution_count": 13,
     "metadata": {},
     "output_type": "execute_result"
    }
   ],
   "source": [
    "train_set['Category'].value_counts()"
   ]
  },
  {
   "cell_type": "code",
   "execution_count": 14,
   "metadata": {},
   "outputs": [
    {
     "data": {
      "text/plain": [
       "5000"
      ]
     },
     "execution_count": 14,
     "metadata": {},
     "output_type": "execute_result"
    }
   ],
   "source": [
    "val_total= val_set.shape[0]\n",
    "val_total"
   ]
  },
  {
   "cell_type": "code",
   "execution_count": 15,
   "metadata": {},
   "outputs": [
    {
     "data": {
      "text/plain": [
       "cat    2515\n",
       "dog    2485\n",
       "Name: Category, dtype: int64"
      ]
     },
     "execution_count": 15,
     "metadata": {},
     "output_type": "execute_result"
    }
   ],
   "source": [
    "val_set['Category'].value_counts()"
   ]
  },
  {
   "cell_type": "code",
   "execution_count": 16,
   "metadata": {},
   "outputs": [
    {
     "data": {
      "text/html": [
       "<div>\n",
       "<style scoped>\n",
       "    .dataframe tbody tr th:only-of-type {\n",
       "        vertical-align: middle;\n",
       "    }\n",
       "\n",
       "    .dataframe tbody tr th {\n",
       "        vertical-align: top;\n",
       "    }\n",
       "\n",
       "    .dataframe thead th {\n",
       "        text-align: right;\n",
       "    }\n",
       "</style>\n",
       "<table border=\"1\" class=\"dataframe\">\n",
       "  <thead>\n",
       "    <tr style=\"text-align: right;\">\n",
       "      <th></th>\n",
       "      <th>Name</th>\n",
       "      <th>Category</th>\n",
       "    </tr>\n",
       "  </thead>\n",
       "  <tbody>\n",
       "    <tr>\n",
       "      <th>6868</th>\n",
       "      <td>cat.493.jpg</td>\n",
       "      <td>cat</td>\n",
       "    </tr>\n",
       "    <tr>\n",
       "      <th>24016</th>\n",
       "      <td>dog.9112.jpg</td>\n",
       "      <td>dog</td>\n",
       "    </tr>\n",
       "    <tr>\n",
       "      <th>9668</th>\n",
       "      <td>cat.745.jpg</td>\n",
       "      <td>cat</td>\n",
       "    </tr>\n",
       "    <tr>\n",
       "      <th>13640</th>\n",
       "      <td>dog.11022.jpg</td>\n",
       "      <td>dog</td>\n",
       "    </tr>\n",
       "    <tr>\n",
       "      <th>14018</th>\n",
       "      <td>dog.11363.jpg</td>\n",
       "      <td>dog</td>\n",
       "    </tr>\n",
       "    <tr>\n",
       "      <th>...</th>\n",
       "      <td>...</td>\n",
       "      <td>...</td>\n",
       "    </tr>\n",
       "    <tr>\n",
       "      <th>8670</th>\n",
       "      <td>cat.6551.jpg</td>\n",
       "      <td>cat</td>\n",
       "    </tr>\n",
       "    <tr>\n",
       "      <th>11839</th>\n",
       "      <td>cat.9403.jpg</td>\n",
       "      <td>cat</td>\n",
       "    </tr>\n",
       "    <tr>\n",
       "      <th>4013</th>\n",
       "      <td>cat.236.jpg</td>\n",
       "      <td>cat</td>\n",
       "    </tr>\n",
       "    <tr>\n",
       "      <th>21147</th>\n",
       "      <td>dog.6530.jpg</td>\n",
       "      <td>dog</td>\n",
       "    </tr>\n",
       "    <tr>\n",
       "      <th>695</th>\n",
       "      <td>cat.10622.jpg</td>\n",
       "      <td>cat</td>\n",
       "    </tr>\n",
       "  </tbody>\n",
       "</table>\n",
       "<p>5000 rows × 2 columns</p>\n",
       "</div>"
      ],
      "text/plain": [
       "                Name Category\n",
       "6868     cat.493.jpg      cat\n",
       "24016   dog.9112.jpg      dog\n",
       "9668     cat.745.jpg      cat\n",
       "13640  dog.11022.jpg      dog\n",
       "14018  dog.11363.jpg      dog\n",
       "...              ...      ...\n",
       "8670    cat.6551.jpg      cat\n",
       "11839   cat.9403.jpg      cat\n",
       "4013     cat.236.jpg      cat\n",
       "21147   dog.6530.jpg      dog\n",
       "695    cat.10622.jpg      cat\n",
       "\n",
       "[5000 rows x 2 columns]"
      ]
     },
     "execution_count": 16,
     "metadata": {},
     "output_type": "execute_result"
    }
   ],
   "source": [
    "val_set"
   ]
  },
  {
   "cell_type": "markdown",
   "metadata": {},
   "source": [
    "<h3>ImageDataGenerator & Flow from dataframe</h3>"
   ]
  },
  {
   "cell_type": "code",
   "execution_count": null,
   "metadata": {},
   "outputs": [],
   "source": [
    "# Image DataGenerator can generate batches of tensor image data with real-time data augmentation.\n",
    "# But in this situation, I'm only using it to rescale image"
   ]
  },
  {
   "cell_type": "code",
   "execution_count": 36,
   "metadata": {},
   "outputs": [],
   "source": [
    "train_datagen= ImageDataGenerator(rescale= 1./255)"
   ]
  },
  {
   "cell_type": "code",
   "execution_count": 28,
   "metadata": {},
   "outputs": [],
   "source": [
    "# Binary because of 2 classes, \"cat\" and \"dog\""
   ]
  },
  {
   "cell_type": "code",
   "execution_count": null,
   "metadata": {},
   "outputs": [],
   "source": [
    "# Most of the Image datasets has 2 common formats:\n",
    "# The first common format contains all the images within separate folders named after their respective class names.\n",
    "# Therefore we can use flow_from_directory function to easily the images read from the disc and perform powerful on the fly image augmentation with the ImageDataGenerator.\n",
    "# flow_from_dataframe allows you to input a Pandas dataframe which contains the filenames(with or without the extensions) column and a column which has the class names and directly read the images from the directory with their respective class names mapped"
   ]
  },
  {
   "cell_type": "code",
   "execution_count": 37,
   "metadata": {},
   "outputs": [
    {
     "name": "stdout",
     "output_type": "stream",
     "text": [
      "Found 20000 validated image filenames belonging to 2 classes.\n"
     ]
    }
   ],
   "source": [
    "train_gen= train_datagen.flow_from_dataframe(train_set,\n",
    "                                             \"../weekly project 7/train/\",\n",
    "                                            x_col='Name',\n",
    "                                            y_col='Category',\n",
    "                                            target_size= (192,192),\n",
    "                                            class_mode=\"binary\",\n",
    "                                            batch_size= 32,\n",
    "                                            seed= 42\n",
    "                                            )"
   ]
  },
  {
   "cell_type": "code",
   "execution_count": 38,
   "metadata": {},
   "outputs": [],
   "source": [
    "val_datagen= ImageDataGenerator(rescale= 1./255)"
   ]
  },
  {
   "cell_type": "code",
   "execution_count": 40,
   "metadata": {},
   "outputs": [
    {
     "name": "stdout",
     "output_type": "stream",
     "text": [
      "Found 5000 validated image filenames belonging to 2 classes.\n"
     ]
    }
   ],
   "source": [
    "val_gen= val_datagen.flow_from_dataframe(val_set,\n",
    "                                         \"../weekly project 7/train/\",\n",
    "                                         x_col='Name',\n",
    "                                         y_col='Category',\n",
    "                                         target_size= (192,192),\n",
    "                                         class_mode='binary',\n",
    "                                         batch_size= 32,\n",
    "                                         seed= 42\n",
    "                                        )"
   ]
  },
  {
   "cell_type": "markdown",
   "metadata": {},
   "source": [
    "<h1> Create Model</h1>"
   ]
  },
  {
   "cell_type": "markdown",
   "metadata": {},
   "source": [
    "<h3> 128 x 128 x 128 x 128 x 128 x 128 x 1 Layers </h3>"
   ]
  },
  {
   "cell_type": "code",
   "execution_count": 41,
   "metadata": {},
   "outputs": [],
   "source": [
    "import tensorflow as tf\n",
    "import math"
   ]
  },
  {
   "cell_type": "code",
   "execution_count": 42,
   "metadata": {},
   "outputs": [],
   "source": [
    "model= tf.keras.models.Sequential([\n",
    "                                     tf.keras.layers.Flatten(input_shape= (192,192,3)),\n",
    "                                     tf.keras.layers.Dense(128, activation='relu'),\n",
    "                                     tf.keras.layers.Dense(128, activation='relu'),\n",
    "                                     tf.keras.layers.Dense(128, activation='relu'),\n",
    "                                     tf.keras.layers.Dense(128, activation='relu'), \n",
    "                                     tf.keras.layers.Dense(128, activation='relu'),\n",
    "                                     tf.keras.layers.Dense(128, activation='relu'),\n",
    "                                     tf.keras.layers.Dense(1, activation='sigmoid'),\n",
    "  ])"
   ]
  },
  {
   "cell_type": "code",
   "execution_count": 43,
   "metadata": {},
   "outputs": [
    {
     "name": "stdout",
     "output_type": "stream",
     "text": [
      "Model: \"sequential_2\"\n",
      "_________________________________________________________________\n",
      "Layer (type)                 Output Shape              Param #   \n",
      "=================================================================\n",
      "flatten_2 (Flatten)          (None, 110592)            0         \n",
      "_________________________________________________________________\n",
      "dense_14 (Dense)             (None, 128)               14155904  \n",
      "_________________________________________________________________\n",
      "dense_15 (Dense)             (None, 128)               16512     \n",
      "_________________________________________________________________\n",
      "dense_16 (Dense)             (None, 128)               16512     \n",
      "_________________________________________________________________\n",
      "dense_17 (Dense)             (None, 128)               16512     \n",
      "_________________________________________________________________\n",
      "dense_18 (Dense)             (None, 128)               16512     \n",
      "_________________________________________________________________\n",
      "dense_19 (Dense)             (None, 128)               16512     \n",
      "_________________________________________________________________\n",
      "dense_20 (Dense)             (None, 1)                 129       \n",
      "=================================================================\n",
      "Total params: 14,238,593\n",
      "Trainable params: 14,238,593\n",
      "Non-trainable params: 0\n",
      "_________________________________________________________________\n"
     ]
    }
   ],
   "source": [
    "model.summary()"
   ]
  },
  {
   "cell_type": "code",
   "execution_count": 44,
   "metadata": {},
   "outputs": [],
   "source": [
    "callback= tf.keras.callbacks.EarlyStopping(patience= 10)"
   ]
  },
  {
   "cell_type": "code",
   "execution_count": 45,
   "metadata": {},
   "outputs": [],
   "source": [
    "# Learning rate = 1e-4"
   ]
  },
  {
   "cell_type": "code",
   "execution_count": 46,
   "metadata": {},
   "outputs": [],
   "source": [
    "model.compile(optimizer= tf.keras.optimizers.Adam(learning_rate= 1e-4), \n",
    "              loss= 'binary_crossentropy', \n",
    "              metrics= ['accuracy']\n",
    "             )"
   ]
  },
  {
   "cell_type": "code",
   "execution_count": 47,
   "metadata": {},
   "outputs": [
    {
     "name": "stdout",
     "output_type": "stream",
     "text": [
      "Epoch 1/40\n",
      "625/625 [==============================] - 45s 71ms/step - loss: 0.6845 - accuracy: 0.5687 - val_loss: 0.6560 - val_accuracy: 0.6154\n",
      "Epoch 2/40\n",
      "625/625 [==============================] - 44s 70ms/step - loss: 0.6651 - accuracy: 0.5994 - val_loss: 0.6628 - val_accuracy: 0.6058\n",
      "Epoch 3/40\n",
      "625/625 [==============================] - 43s 69ms/step - loss: 0.6551 - accuracy: 0.6115 - val_loss: 0.6457 - val_accuracy: 0.6234\n",
      "Epoch 4/40\n",
      "625/625 [==============================] - 44s 70ms/step - loss: 0.6486 - accuracy: 0.6191 - val_loss: 0.6631 - val_accuracy: 0.6006\n",
      "Epoch 5/40\n",
      "625/625 [==============================] - 43s 69ms/step - loss: 0.6425 - accuracy: 0.6272 - val_loss: 0.6594 - val_accuracy: 0.5960\n",
      "Epoch 6/40\n",
      "625/625 [==============================] - 44s 71ms/step - loss: 0.6351 - accuracy: 0.6333 - val_loss: 0.6416 - val_accuracy: 0.6248\n",
      "Epoch 7/40\n",
      "625/625 [==============================] - 45s 72ms/step - loss: 0.6300 - accuracy: 0.6428 - val_loss: 0.6438 - val_accuracy: 0.6288\n",
      "Epoch 8/40\n",
      "625/625 [==============================] - 45s 73ms/step - loss: 0.6258 - accuracy: 0.6438 - val_loss: 0.6367 - val_accuracy: 0.6294\n",
      "Epoch 9/40\n",
      "625/625 [==============================] - 47s 76ms/step - loss: 0.6203 - accuracy: 0.6506 - val_loss: 0.6805 - val_accuracy: 0.6042\n",
      "Epoch 10/40\n",
      "625/625 [==============================] - 44s 70ms/step - loss: 0.6169 - accuracy: 0.6540 - val_loss: 0.6320 - val_accuracy: 0.6368\n",
      "Epoch 11/40\n",
      "625/625 [==============================] - 44s 70ms/step - loss: 0.6057 - accuracy: 0.6653 - val_loss: 0.6330 - val_accuracy: 0.6366\n",
      "Epoch 12/40\n",
      "625/625 [==============================] - 44s 70ms/step - loss: 0.6041 - accuracy: 0.6708 - val_loss: 0.6310 - val_accuracy: 0.6412\n",
      "Epoch 13/40\n",
      "625/625 [==============================] - 44s 70ms/step - loss: 0.6022 - accuracy: 0.6726 - val_loss: 0.6284 - val_accuracy: 0.6352\n",
      "Epoch 14/40\n",
      "625/625 [==============================] - 45s 72ms/step - loss: 0.5950 - accuracy: 0.6776 - val_loss: 0.6239 - val_accuracy: 0.6490\n",
      "Epoch 15/40\n",
      "625/625 [==============================] - 44s 71ms/step - loss: 0.5894 - accuracy: 0.6823 - val_loss: 0.6258 - val_accuracy: 0.6422\n",
      "Epoch 16/40\n",
      "625/625 [==============================] - 47s 75ms/step - loss: 0.5855 - accuracy: 0.6868 - val_loss: 0.6320 - val_accuracy: 0.6452\n",
      "Epoch 17/40\n",
      "625/625 [==============================] - 47s 76ms/step - loss: 0.5785 - accuracy: 0.6934 - val_loss: 0.6306 - val_accuracy: 0.6440\n",
      "Epoch 18/40\n",
      "625/625 [==============================] - 46s 74ms/step - loss: 0.5742 - accuracy: 0.6955 - val_loss: 0.6255 - val_accuracy: 0.6462\n",
      "Epoch 19/40\n",
      "625/625 [==============================] - 44s 71ms/step - loss: 0.5715 - accuracy: 0.6996 - val_loss: 0.6310 - val_accuracy: 0.6400\n",
      "Epoch 20/40\n",
      "625/625 [==============================] - 43s 68ms/step - loss: 0.5648 - accuracy: 0.7050 - val_loss: 0.6422 - val_accuracy: 0.6500\n",
      "Epoch 21/40\n",
      "625/625 [==============================] - 46s 74ms/step - loss: 0.5636 - accuracy: 0.7063 - val_loss: 0.6361 - val_accuracy: 0.6356\n",
      "Epoch 22/40\n",
      "625/625 [==============================] - 44s 70ms/step - loss: 0.5553 - accuracy: 0.7146 - val_loss: 0.6461 - val_accuracy: 0.6526\n",
      "Epoch 23/40\n",
      "625/625 [==============================] - 44s 70ms/step - loss: 0.5555 - accuracy: 0.7129 - val_loss: 0.6513 - val_accuracy: 0.6440\n",
      "Epoch 24/40\n",
      "625/625 [==============================] - 44s 71ms/step - loss: 0.5478 - accuracy: 0.7233 - val_loss: 0.6386 - val_accuracy: 0.6500\n"
     ]
    }
   ],
   "source": [
    "history= model.fit(train_gen, \n",
    "                   validation_data= val_gen, \n",
    "                   epochs= 40,\n",
    "                   steps_per_epoch= tf.math.ceil(len(train_set)/32).numpy(),\n",
    "                   validation_steps= tf.math.ceil(len(val_set)/32).numpy(),\n",
    "                   callbacks= callback\n",
    "                  )"
   ]
  },
  {
   "cell_type": "code",
   "execution_count": 48,
   "metadata": {},
   "outputs": [
    {
     "data": {
      "image/png": "[encoded data removed]",
      "text/plain": [
       "<Figure size 864x576 with 1 Axes>"
      ]
     },
     "metadata": {
      "needs_background": "light"
     },
     "output_type": "display_data"
    }
   ],
   "source": [
    "def plot_history(history, key='loss'):\n",
    "    plt.figure(figsize=(12,8))\n",
    "\n",
    "    val = plt.plot(history.epoch, history.history['val_'+key],'--', label=key.title() +' Val')\n",
    "    plt.plot(history.epoch, history.history[key], color=val[0].get_color(), label=key.title() + ' Train')\n",
    "\n",
    "    plt.xlabel('Epochs')\n",
    "    plt.ylabel(key.replace('_',' ').title())\n",
    "    plt.legend()\n",
    "\n",
    "    plt.xlim([0,max(history.epoch)])\n",
    "\n",
    "plot_history(history, key='accuracy')"
   ]
  },
  {
   "cell_type": "markdown",
   "metadata": {},
   "source": [
    "<h1> Transfer Learning </h1>"
   ]
  },
  {
   "cell_type": "markdown",
   "metadata": {},
   "source": [
    "<h2> Mobile Net </h2>"
   ]
  },
  {
   "cell_type": "code",
   "execution_count": 49,
   "metadata": {},
   "outputs": [
    {
     "name": "stdout",
     "output_type": "stream",
     "text": [
      "Downloading data from https://storage.googleapis.com/tensorflow/keras-applications/mobilenet_v2/mobilenet_v2_weights_tf_dim_ordering_tf_kernels_1.0_192_no_top.h5\n",
      "9412608/9406464 [==============================] - 2s 0us/step\n"
     ]
    }
   ],
   "source": [
    "mobile_net = tf.keras.applications.MobileNetV2(input_shape=(192, 192, 3), include_top=False)\n",
    "mobile_net.trainable=False "
   ]
  },
  {
   "cell_type": "code",
   "execution_count": 50,
   "metadata": {},
   "outputs": [],
   "source": [
    "mobile_model = tf.keras.Sequential([\n",
    "                            mobile_net,\n",
    "                            tf.keras.layers.GlobalAveragePooling2D(),\n",
    "                            tf.keras.layers.Dense(1, activation = 'sigmoid')])"
   ]
  },
  {
   "cell_type": "code",
   "execution_count": 51,
   "metadata": {},
   "outputs": [
    {
     "name": "stdout",
     "output_type": "stream",
     "text": [
      "Model: \"sequential_3\"\n",
      "_________________________________________________________________\n",
      "Layer (type)                 Output Shape              Param #   \n",
      "=================================================================\n",
      "mobilenetv2_1.00_192 (Functi (None, 6, 6, 1280)        2257984   \n",
      "_________________________________________________________________\n",
      "global_average_pooling2d (Gl (None, 1280)              0         \n",
      "_________________________________________________________________\n",
      "dense_21 (Dense)             (None, 1)                 1281      \n",
      "=================================================================\n",
      "Total params: 2,259,265\n",
      "Trainable params: 1,281\n",
      "Non-trainable params: 2,257,984\n",
      "_________________________________________________________________\n"
     ]
    }
   ],
   "source": [
    "mobile_model.summary()"
   ]
  },
  {
   "cell_type": "code",
   "execution_count": 81,
   "metadata": {},
   "outputs": [],
   "source": [
    "mobile_model.compile(optimizer=tf.keras.optimizers.Adam(1e-4),\n",
    "              loss='binary_crossentropy',\n",
    "              metrics=[\"accuracy\"])"
   ]
  },
  {
   "cell_type": "code",
   "execution_count": 82,
   "metadata": {},
   "outputs": [
    {
     "name": "stdout",
     "output_type": "stream",
     "text": [
      "Epoch 1/40\n",
      "625/625 [==============================] - 45s 71ms/step - loss: 0.0111 - accuracy: 0.9980 - val_loss: 0.0909 - val_accuracy: 0.9732\n",
      "Epoch 2/40\n",
      "625/625 [==============================] - 44s 71ms/step - loss: 0.0110 - accuracy: 0.9980 - val_loss: 0.0912 - val_accuracy: 0.9730\n",
      "Epoch 3/40\n",
      "625/625 [==============================] - 48s 77ms/step - loss: 0.0108 - accuracy: 0.9982 - val_loss: 0.0922 - val_accuracy: 0.9722\n",
      "Epoch 4/40\n",
      "625/625 [==============================] - 44s 70ms/step - loss: 0.0109 - accuracy: 0.9980 - val_loss: 0.0912 - val_accuracy: 0.9728\n",
      "Epoch 5/40\n",
      "625/625 [==============================] - 44s 70ms/step - loss: 0.0108 - accuracy: 0.9982 - val_loss: 0.0911 - val_accuracy: 0.9732\n",
      "Epoch 6/40\n",
      "625/625 [==============================] - 44s 71ms/step - loss: 0.0107 - accuracy: 0.9983 - val_loss: 0.0920 - val_accuracy: 0.9732\n",
      "Epoch 7/40\n",
      "625/625 [==============================] - 44s 70ms/step - loss: 0.0108 - accuracy: 0.9983 - val_loss: 0.0917 - val_accuracy: 0.9728\n",
      "Epoch 8/40\n",
      "625/625 [==============================] - 44s 70ms/step - loss: 0.0108 - accuracy: 0.9982 - val_loss: 0.0915 - val_accuracy: 0.9728\n",
      "Epoch 9/40\n",
      "625/625 [==============================] - 44s 70ms/step - loss: 0.0107 - accuracy: 0.9981 - val_loss: 0.0916 - val_accuracy: 0.9732\n",
      "Epoch 10/40\n",
      "625/625 [==============================] - 44s 70ms/step - loss: 0.0107 - accuracy: 0.9983 - val_loss: 0.0921 - val_accuracy: 0.9730\n",
      "Epoch 11/40\n",
      "625/625 [==============================] - 44s 71ms/step - loss: 0.0107 - accuracy: 0.9982 - val_loss: 0.0916 - val_accuracy: 0.9734\n"
     ]
    }
   ],
   "source": [
    "history2 = mobile_model.fit(train_gen, \n",
    "                           validation_data= val_gen, \n",
    "                           epochs= 40,\n",
    "                           steps_per_epoch= tf.math.ceil(len(train_set)/32).numpy(),\n",
    "                           validation_steps= tf.math.ceil(len(val_set)/32).numpy(),\n",
    "                           callbacks= callback\n",
    "                          )"
   ]
  },
  {
   "cell_type": "code",
   "execution_count": 83,
   "metadata": {},
   "outputs": [
    {
     "data": {
      "image/png": "[encoded data removed]",
      "text/plain": [
       "<Figure size 864x576 with 1 Axes>"
      ]
     },
     "metadata": {
      "needs_background": "light"
     },
     "output_type": "display_data"
    }
   ],
   "source": [
    "def plot_history(history, key='loss'):\n",
    "    plt.figure(figsize=(12,8))\n",
    "\n",
    "    val = plt.plot(history2.epoch, history2.history['val_'+key],'--', label=key.title() +' Val')\n",
    "    plt.plot(history2.epoch, history2.history[key], color=val[0].get_color(), label=key.title() + ' Train')\n",
    "\n",
    "    plt.xlabel('Epochs')\n",
    "    plt.ylabel(key.replace('_',' ').title())\n",
    "    plt.legend()\n",
    "\n",
    "    plt.xlim([0,max(history.epoch)])\n",
    "\n",
    "plot_history(history, key='accuracy')"
   ]
  },
  {
   "cell_type": "code",
   "execution_count": null,
   "metadata": {},
   "outputs": [],
   "source": []
  }
 ],
 "metadata": {
  "kernelspec": {
   "display_name": "Python [conda env:tensorflow]",
   "language": "python",
   "name": "conda-env-tensorflow-py"
  },
  "language_info": {
   "codemirror_mode": {
    "name": "ipython",
    "version": 3
   },
   "file_extension": ".py",
   "mimetype": "text/x-python",
   "name": "python",
   "nbconvert_exporter": "python",
   "pygments_lexer": "ipython3",
   "version": "3.7.1"
  }
 },
 "nbformat": 4,
 "nbformat_minor": 4
}
